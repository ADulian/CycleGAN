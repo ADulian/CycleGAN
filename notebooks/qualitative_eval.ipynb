{
 "cells": [
  {
   "cell_type": "code",
   "execution_count": null,
   "metadata": {},
   "outputs": [],
   "source": [
    "import torch\n",
    "import os\n",
    "os.chdir(\"../\")  # Move Up\n",
    "os.getcwd()"
   ]
  },
  {
   "cell_type": "code",
   "execution_count": null,
   "metadata": {},
   "outputs": [],
   "source": [
    "from src.dataset.monet_dataset import MonetDataset\n",
    "from src.model.cycle_gan import CycleGAN\n",
    "from src.tools.gan_explorer import GANExplorer"
   ]
  },
  {
   "cell_type": "code",
   "execution_count": null,
   "metadata": {},
   "outputs": [],
   "source": [
    "# Init dataset\n",
    "# Structure:\n",
    "#   data/\n",
    "#       monet_jpg/\n",
    "#       photo_jpg/\n",
    "dataset = MonetDataset(root_path=\"data/\")\n",
    "len(dataset)"
   ]
  },
  {
   "cell_type": "code",
   "execution_count": null,
   "metadata": {},
   "outputs": [],
   "source": [
    "# Init model and load weights\n",
    "model = CycleGAN()\n",
    "model.load_state_dict(torch.load(\"models/baseline.pth\"))"
   ]
  },
  {
   "cell_type": "code",
   "execution_count": null,
   "metadata": {},
   "outputs": [],
   "source": [
    "# Explore Dataset\n",
    "exp = GANExplorer(model=model, \n",
    "                  dataset=dataset, \n",
    "                  batch_size=8,  # Buffer of predictions, model forward will be applied every batch_size samples \n",
    "                  n_rows=3, \n",
    "                  style_b=\"monet\",  # B domain\n",
    "                  render_discriminator=True  # Render the output of Discriminators\n",
    "                  )\n",
    "exp.show()"
   ]
  }
 ],
 "metadata": {
  "kernelspec": {
   "display_name": "claude_monet",
   "language": "python",
   "name": "python3"
  },
  "language_info": {
   "codemirror_mode": {
    "name": "ipython",
    "version": 3
   },
   "file_extension": ".py",
   "mimetype": "text/x-python",
   "name": "python",
   "nbconvert_exporter": "python",
   "pygments_lexer": "ipython3",
   "version": "3.10.11"
  }
 },
 "nbformat": 4,
 "nbformat_minor": 2
}
